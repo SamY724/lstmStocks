{
  "cells": [
    {
      "cell_type": "code",
      "execution_count": null,
      "metadata": {
        "colab": {
          "base_uri": "https://localhost:8080/"
        },
        "id": "F8sRT1whLc8u",
        "outputId": "3f90fda7-46dc-4951-d542-96653493f0eb"
      },
      "outputs": [
        {
          "name": "stdout",
          "output_type": "stream",
          "text": [
            "Looking in indexes: https://pypi.org/simple, https://us-python.pkg.dev/colab-wheels/public/simple/\n",
            "Requirement already satisfied: yfinance in /usr/local/lib/python3.7/dist-packages (0.1.74)\n",
            "Requirement already satisfied: numpy>=1.15 in /usr/local/lib/python3.7/dist-packages (from yfinance) (1.21.6)\n",
            "Requirement already satisfied: lxml>=4.5.1 in /usr/local/lib/python3.7/dist-packages (from yfinance) (4.9.1)\n",
            "Requirement already satisfied: pandas>=0.24.0 in /usr/local/lib/python3.7/dist-packages (from yfinance) (1.3.5)\n",
            "Requirement already satisfied: requests>=2.26 in /usr/local/lib/python3.7/dist-packages (from yfinance) (2.28.1)\n",
            "Requirement already satisfied: multitasking>=0.0.7 in /usr/local/lib/python3.7/dist-packages (from yfinance) (0.0.11)\n",
            "Requirement already satisfied: python-dateutil>=2.7.3 in /usr/local/lib/python3.7/dist-packages (from pandas>=0.24.0->yfinance) (2.8.2)\n",
            "Requirement already satisfied: pytz>=2017.3 in /usr/local/lib/python3.7/dist-packages (from pandas>=0.24.0->yfinance) (2022.2.1)\n",
            "Requirement already satisfied: six>=1.5 in /usr/local/lib/python3.7/dist-packages (from python-dateutil>=2.7.3->pandas>=0.24.0->yfinance) (1.15.0)\n",
            "Requirement already satisfied: urllib3<1.27,>=1.21.1 in /usr/local/lib/python3.7/dist-packages (from requests>=2.26->yfinance) (1.24.3)\n",
            "Requirement already satisfied: idna<4,>=2.5 in /usr/local/lib/python3.7/dist-packages (from requests>=2.26->yfinance) (2.10)\n",
            "Requirement already satisfied: certifi>=2017.4.17 in /usr/local/lib/python3.7/dist-packages (from requests>=2.26->yfinance) (2022.6.15)\n",
            "Requirement already satisfied: charset-normalizer<3,>=2 in /usr/local/lib/python3.7/dist-packages (from requests>=2.26->yfinance) (2.1.1)\n",
            "Looking in indexes: https://pypi.org/simple, https://us-python.pkg.dev/colab-wheels/public/simple/\n",
            "Requirement already satisfied: pandas-datareader in /usr/local/lib/python3.7/dist-packages (0.9.0)\n",
            "Requirement already satisfied: requests>=2.19.0 in /usr/local/lib/python3.7/dist-packages (from pandas-datareader) (2.28.1)\n",
            "Requirement already satisfied: lxml in /usr/local/lib/python3.7/dist-packages (from pandas-datareader) (4.9.1)\n",
            "Requirement already satisfied: pandas>=0.23 in /usr/local/lib/python3.7/dist-packages (from pandas-datareader) (1.3.5)\n",
            "Requirement already satisfied: numpy>=1.17.3 in /usr/local/lib/python3.7/dist-packages (from pandas>=0.23->pandas-datareader) (1.21.6)\n",
            "Requirement already satisfied: python-dateutil>=2.7.3 in /usr/local/lib/python3.7/dist-packages (from pandas>=0.23->pandas-datareader) (2.8.2)\n",
            "Requirement already satisfied: pytz>=2017.3 in /usr/local/lib/python3.7/dist-packages (from pandas>=0.23->pandas-datareader) (2022.2.1)\n",
            "Requirement already satisfied: six>=1.5 in /usr/local/lib/python3.7/dist-packages (from python-dateutil>=2.7.3->pandas>=0.23->pandas-datareader) (1.15.0)\n",
            "Requirement already satisfied: charset-normalizer<3,>=2 in /usr/local/lib/python3.7/dist-packages (from requests>=2.19.0->pandas-datareader) (2.1.1)\n",
            "Requirement already satisfied: idna<4,>=2.5 in /usr/local/lib/python3.7/dist-packages (from requests>=2.19.0->pandas-datareader) (2.10)\n",
            "Requirement already satisfied: certifi>=2017.4.17 in /usr/local/lib/python3.7/dist-packages (from requests>=2.19.0->pandas-datareader) (2022.6.15)\n",
            "Requirement already satisfied: urllib3<1.27,>=1.21.1 in /usr/local/lib/python3.7/dist-packages (from requests>=2.19.0->pandas-datareader) (1.24.3)\n"
          ]
        }
      ],
      "source": [
        "# installments\n",
        "\n",
        "!pip install yfinance\n",
        "!pip install pandas-datareader\n"
      ]
    },
    {
      "cell_type": "code",
      "execution_count": null,
      "metadata": {
        "id": "iuopSlQhMiAV"
      },
      "outputs": [],
      "source": [
        "# imports\n",
        "\n",
        "import math\n",
        "import yfinance as yf\n",
        "import numpy as np\n",
        "import pandas as pd\n",
        "from sklearn.preprocessing import MinMaxScaler \n",
        "import matplotlib.pyplot as plt\n",
        "from keras.models import Sequential\n",
        "from keras.layers import LSTM\n",
        "from keras.layers import Dropout\n",
        "from keras.layers import Dense\n",
        "import pandas_datareader"
      ]
    },
    {
      "cell_type": "code",
      "execution_count": null,
      "metadata": {
        "colab": {
          "base_uri": "https://localhost:8080/"
        },
        "id": "VnW2NUjpLj2D",
        "outputId": "5b98f1fc-5f00-47b5-d51f-6b96595563bb"
      },
      "outputs": [
        {
          "name": "stdout",
          "output_type": "stream",
          "text": [
            "[*********************100%***********************]  1 of 1 completed\n",
            "[*********************100%***********************]  1 of 1 completed\n",
            "[*********************100%***********************]  1 of 1 completed\n",
            "[*********************100%***********************]  1 of 1 completed\n",
            "[*********************100%***********************]  1 of 1 completed\n",
            "[*********************100%***********************]  1 of 1 completed\n",
            "[*********************100%***********************]  1 of 1 completed\n",
            "           Date     actual\n",
            "0    2011-01-03  67.080002\n",
            "1    2011-01-04  67.459999\n",
            "2    2011-01-05  66.849998\n",
            "3    2011-01-06  65.739998\n",
            "4    2011-01-07  65.750000\n",
            "...         ...        ...\n",
            "2512 2020-12-24  35.830002\n",
            "2513 2020-12-28  35.900002\n",
            "2514 2020-12-29  36.139999\n",
            "2515 2020-12-30  36.029999\n",
            "2516 2020-12-31  35.139999\n",
            "\n",
            "[2517 rows x 2 columns]\n"
          ]
        }
      ],
      "source": [
        "# getting symbols for stocks in top risers\n",
        "\n",
        "\n",
        "\n",
        "\n",
        "\n",
        "RKT = yf.download(\"RKT\", start = \"2011-01-01\", end= \"2021-01-01\")\n",
        "AZN = yf.download(\"AZN\", start = \"2011-01-01\", end= \"2021-01-01\")\n",
        "PSH = yf.download(\"PSH\", start = \"2011-01-01\", end= \"2021-01-01\")\n",
        "AUTO   = yf.download(\"AUTO\", start = \"2011-01-01\", end= \"2021-01-01\")\n",
        "GSK = yf.download(\"GSK\", start = \"2011-01-01\", end= \"2021-01-01\")\n",
        "DGE = yf.download(\"DGE\", start = \"2011-01-01\", end= \"2021-01-01\")\n",
        "SHEL = yf.download(\"SHEL\", start = \"2011-01-01\", end= \"2021-01-01\")\n",
        "\n",
        "# uncomment the stock that is going to be tested. (Make sure rest is commented)\n",
        "\n",
        "data = RKT\n",
        "#data = AZN\n",
        "#data = PSH\n",
        "#data = AUTO\t\n",
        "#data = GSK\n",
        "#data = DGE\n",
        "#data = SHEL\n",
        "\n",
        "#putting data into pandas dataframe to visualise data\n",
        "\n",
        "data_pd = pd.DataFrame(data)\n",
        "\n",
        "\n",
        "data_pd['Date'] = data_pd.index\n",
        "\n",
        "\n",
        "dataframe = pd.DataFrame({'Date':data_pd['Date'],'actual':data_pd['Close']})\n",
        "dataframe = dataframe.reset_index(drop=True)\n",
        "print(dataframe)\n",
        "\n",
        "# checking for NaN values\n",
        "data_pd.isnull().values.any()\n",
        "\n",
        "# dropping any Nan values if any\n",
        "\n",
        "data_pd.dropna(axis=0)\n",
        "\n",
        "\n",
        "\n",
        "\n",
        "# get the close prices from the data\n",
        "close_prices = data_pd['Close']\n",
        "values = close_prices.values\n",
        "# 80:20 split for training data \n",
        "training_data_len = math.ceil(len(values)* 0.8)\n",
        "\n",
        "\n",
        "\n",
        "\n",
        "\n",
        "# scaling the data \n",
        "\n",
        "scaler = MinMaxScaler(feature_range=(0,1))\n",
        "scaled_data = scaler.fit_transform(values.reshape(-1,1))\n",
        "train_data = scaled_data[0: training_data_len, :]\n",
        "\n"
      ]
    },
    {
      "cell_type": "code",
      "execution_count": null,
      "metadata": {
        "id": "138okCg-Pstc"
      },
      "outputs": [],
      "source": [
        "# look 60 days into the past to predict next price\n",
        "\n",
        "prediction_days = 60\n",
        "# getting x train and y train values\n",
        "x_train = []\n",
        "y_train = []\n",
        "\n",
        "for i in range(prediction_days, len(train_data)):\n",
        "    x_train.append(train_data[i-60:i, 0])\n",
        "    y_train.append(train_data[i, 0])\n",
        "    \n",
        "x_train, y_train = np.array(x_train), np.array(y_train)\n",
        "x_train = np.reshape(x_train, (x_train.shape[0], x_train.shape[1], 1))"
      ]
    },
    {
      "cell_type": "code",
      "execution_count": null,
      "metadata": {
        "id": "saxaLCKTG2R9"
      },
      "outputs": [],
      "source": [
        "# preparing the test data \n",
        "\n",
        "test_data = scaled_data[training_data_len-60: , : ]\n",
        "x_test = []\n",
        "y_test = values[training_data_len:]\n",
        "\n",
        "for i in range(prediction_days, len(test_data)):\n",
        "  x_test.append(test_data[i-60:i, 0])\n",
        "\n",
        "x_test = np.array(x_test)\n",
        "x_test = np.reshape(x_test, (x_test.shape[0], x_test.shape[1], 1))"
      ]
    },
    {
      "cell_type": "code",
      "execution_count": null,
      "metadata": {
        "colab": {
          "base_uri": "https://localhost:8080/"
        },
        "id": "Aw5oEs7zHXV-",
        "outputId": "d336fd7d-0c7b-4d09-d9c4-4b72a2ca5f64"
      },
      "outputs": [
        {
          "name": "stdout",
          "output_type": "stream",
          "text": [
            "Epoch 1/100\n",
            "62/62 [==============================] - 11s 73ms/step - loss: 0.0372\n",
            "Epoch 2/100\n",
            "62/62 [==============================] - 5s 74ms/step - loss: 0.0072\n",
            "Epoch 3/100\n",
            "62/62 [==============================] - 5s 74ms/step - loss: 0.0062\n",
            "Epoch 4/100\n",
            "62/62 [==============================] - 5s 82ms/step - loss: 0.0061\n",
            "Epoch 5/100\n",
            "62/62 [==============================] - 5s 74ms/step - loss: 0.0053\n",
            "Epoch 6/100\n",
            "62/62 [==============================] - 5s 74ms/step - loss: 0.0059\n",
            "Epoch 7/100\n",
            "62/62 [==============================] - 5s 74ms/step - loss: 0.0054\n",
            "Epoch 8/100\n",
            "62/62 [==============================] - 5s 76ms/step - loss: 0.0049\n",
            "Epoch 9/100\n",
            "62/62 [==============================] - 5s 75ms/step - loss: 0.0060\n",
            "Epoch 10/100\n",
            "62/62 [==============================] - 5s 82ms/step - loss: 0.0050\n",
            "Epoch 11/100\n",
            "62/62 [==============================] - 5s 74ms/step - loss: 0.0049\n",
            "Epoch 12/100\n",
            "62/62 [==============================] - 5s 74ms/step - loss: 0.0047\n",
            "Epoch 13/100\n",
            "62/62 [==============================] - 5s 74ms/step - loss: 0.0045\n",
            "Epoch 14/100\n",
            "62/62 [==============================] - 5s 73ms/step - loss: 0.0046\n",
            "Epoch 15/100\n",
            "62/62 [==============================] - 5s 74ms/step - loss: 0.0042\n",
            "Epoch 16/100\n",
            "62/62 [==============================] - 5s 74ms/step - loss: 0.0042\n",
            "Epoch 17/100\n",
            "62/62 [==============================] - 5s 75ms/step - loss: 0.0039\n",
            "Epoch 18/100\n",
            "62/62 [==============================] - 5s 74ms/step - loss: 0.0041\n",
            "Epoch 19/100\n",
            "62/62 [==============================] - 5s 74ms/step - loss: 0.0042\n",
            "Epoch 20/100\n",
            "62/62 [==============================] - 5s 74ms/step - loss: 0.0044\n",
            "Epoch 21/100\n",
            "62/62 [==============================] - 5s 75ms/step - loss: 0.0033\n",
            "Epoch 22/100\n",
            "62/62 [==============================] - 5s 74ms/step - loss: 0.0036\n",
            "Epoch 23/100\n",
            "62/62 [==============================] - 5s 74ms/step - loss: 0.0034\n",
            "Epoch 24/100\n",
            "62/62 [==============================] - 5s 75ms/step - loss: 0.0032\n",
            "Epoch 25/100\n",
            "62/62 [==============================] - 5s 74ms/step - loss: 0.0035\n",
            "Epoch 26/100\n",
            "62/62 [==============================] - 5s 75ms/step - loss: 0.0029\n",
            "Epoch 27/100\n",
            "62/62 [==============================] - 5s 74ms/step - loss: 0.0031\n",
            "Epoch 28/100\n",
            "62/62 [==============================] - 5s 74ms/step - loss: 0.0030\n",
            "Epoch 29/100\n",
            "62/62 [==============================] - 5s 74ms/step - loss: 0.0028\n",
            "Epoch 30/100\n",
            "62/62 [==============================] - 5s 75ms/step - loss: 0.0029\n",
            "Epoch 31/100\n",
            "62/62 [==============================] - 5s 74ms/step - loss: 0.0029\n",
            "Epoch 32/100\n",
            "62/62 [==============================] - 5s 74ms/step - loss: 0.0029\n",
            "Epoch 33/100\n",
            "62/62 [==============================] - 5s 74ms/step - loss: 0.0027\n",
            "Epoch 34/100\n",
            "62/62 [==============================] - 5s 74ms/step - loss: 0.0027\n",
            "Epoch 35/100\n",
            "62/62 [==============================] - 5s 74ms/step - loss: 0.0025\n",
            "Epoch 36/100\n",
            "62/62 [==============================] - 5s 74ms/step - loss: 0.0026\n",
            "Epoch 37/100\n",
            "62/62 [==============================] - 5s 74ms/step - loss: 0.0024\n",
            "Epoch 38/100\n",
            "62/62 [==============================] - 5s 83ms/step - loss: 0.0022\n",
            "Epoch 39/100\n",
            "62/62 [==============================] - 5s 74ms/step - loss: 0.0023\n",
            "Epoch 40/100\n",
            "62/62 [==============================] - 5s 75ms/step - loss: 0.0023\n",
            "Epoch 41/100\n",
            "62/62 [==============================] - 5s 74ms/step - loss: 0.0021\n",
            "Epoch 42/100\n",
            "62/62 [==============================] - 5s 74ms/step - loss: 0.0019\n",
            "Epoch 43/100\n",
            "62/62 [==============================] - 5s 75ms/step - loss: 0.0021\n",
            "Epoch 44/100\n",
            "62/62 [==============================] - 5s 75ms/step - loss: 0.0020\n",
            "Epoch 45/100\n",
            "62/62 [==============================] - 5s 74ms/step - loss: 0.0021\n",
            "Epoch 46/100\n",
            "62/62 [==============================] - 5s 74ms/step - loss: 0.0021\n",
            "Epoch 47/100\n",
            "62/62 [==============================] - 5s 79ms/step - loss: 0.0020\n",
            "Epoch 48/100\n",
            "62/62 [==============================] - 5s 78ms/step - loss: 0.0018\n",
            "Epoch 49/100\n",
            "62/62 [==============================] - 5s 74ms/step - loss: 0.0017\n",
            "Epoch 50/100\n",
            "62/62 [==============================] - 5s 75ms/step - loss: 0.0017\n",
            "Epoch 51/100\n",
            "62/62 [==============================] - 5s 76ms/step - loss: 0.0018\n",
            "Epoch 52/100\n",
            "62/62 [==============================] - 5s 75ms/step - loss: 0.0016\n",
            "Epoch 53/100\n",
            "62/62 [==============================] - 5s 75ms/step - loss: 0.0016\n",
            "Epoch 54/100\n",
            "62/62 [==============================] - 5s 74ms/step - loss: 0.0015\n",
            "Epoch 55/100\n",
            "62/62 [==============================] - 5s 75ms/step - loss: 0.0015\n",
            "Epoch 56/100\n",
            "62/62 [==============================] - 5s 76ms/step - loss: 0.0014\n",
            "Epoch 57/100\n",
            "62/62 [==============================] - 5s 75ms/step - loss: 0.0014\n",
            "Epoch 58/100\n",
            "62/62 [==============================] - 5s 74ms/step - loss: 0.0013\n",
            "Epoch 59/100\n",
            "62/62 [==============================] - 5s 75ms/step - loss: 0.0014\n",
            "Epoch 60/100\n",
            "62/62 [==============================] - 5s 75ms/step - loss: 0.0014\n",
            "Epoch 61/100\n",
            "62/62 [==============================] - 5s 74ms/step - loss: 0.0013\n",
            "Epoch 62/100\n",
            "62/62 [==============================] - 5s 75ms/step - loss: 0.0013\n",
            "Epoch 63/100\n",
            "62/62 [==============================] - 5s 74ms/step - loss: 0.0012\n",
            "Epoch 64/100\n",
            "62/62 [==============================] - 5s 74ms/step - loss: 0.0012\n",
            "Epoch 65/100\n",
            "62/62 [==============================] - 5s 74ms/step - loss: 0.0013\n",
            "Epoch 66/100\n",
            "62/62 [==============================] - 5s 74ms/step - loss: 0.0012\n",
            "Epoch 67/100\n",
            "62/62 [==============================] - 5s 74ms/step - loss: 0.0011\n",
            "Epoch 68/100\n",
            "62/62 [==============================] - 5s 75ms/step - loss: 0.0012\n",
            "Epoch 69/100\n",
            "62/62 [==============================] - 5s 75ms/step - loss: 0.0011\n",
            "Epoch 70/100\n",
            "62/62 [==============================] - 5s 75ms/step - loss: 0.0011\n",
            "Epoch 71/100\n",
            "62/62 [==============================] - 5s 75ms/step - loss: 0.0010\n",
            "Epoch 72/100\n",
            "62/62 [==============================] - 5s 74ms/step - loss: 9.6873e-04\n",
            "Epoch 73/100\n",
            "62/62 [==============================] - 5s 75ms/step - loss: 0.0011\n",
            "Epoch 74/100\n",
            "62/62 [==============================] - 5s 75ms/step - loss: 9.8718e-04\n",
            "Epoch 75/100\n",
            "62/62 [==============================] - 5s 75ms/step - loss: 0.0011\n",
            "Epoch 76/100\n",
            "62/62 [==============================] - 5s 75ms/step - loss: 9.2938e-04\n",
            "Epoch 77/100\n",
            "62/62 [==============================] - 5s 77ms/step - loss: 9.0103e-04\n",
            "Epoch 78/100\n",
            "62/62 [==============================] - 5s 76ms/step - loss: 8.9993e-04\n",
            "Epoch 79/100\n",
            "62/62 [==============================] - 5s 75ms/step - loss: 9.0153e-04\n",
            "Epoch 80/100\n",
            "62/62 [==============================] - 5s 83ms/step - loss: 9.1914e-04\n",
            "Epoch 81/100\n",
            "62/62 [==============================] - 5s 75ms/step - loss: 8.6187e-04\n",
            "Epoch 82/100\n",
            "62/62 [==============================] - 5s 76ms/step - loss: 8.2582e-04\n",
            "Epoch 83/100\n",
            "62/62 [==============================] - 5s 74ms/step - loss: 8.1613e-04\n",
            "Epoch 84/100\n",
            "62/62 [==============================] - 5s 74ms/step - loss: 7.8118e-04\n",
            "Epoch 85/100\n",
            "62/62 [==============================] - 5s 74ms/step - loss: 7.9481e-04\n",
            "Epoch 86/100\n",
            "62/62 [==============================] - 5s 75ms/step - loss: 7.4834e-04\n",
            "Epoch 87/100\n",
            "62/62 [==============================] - 5s 75ms/step - loss: 7.5408e-04\n",
            "Epoch 88/100\n",
            "62/62 [==============================] - 5s 76ms/step - loss: 7.8204e-04\n",
            "Epoch 89/100\n",
            "62/62 [==============================] - 5s 75ms/step - loss: 6.8165e-04\n",
            "Epoch 90/100\n",
            "62/62 [==============================] - 5s 82ms/step - loss: 6.9146e-04\n",
            "Epoch 91/100\n",
            "62/62 [==============================] - 5s 75ms/step - loss: 7.3252e-04\n",
            "Epoch 92/100\n",
            "62/62 [==============================] - 5s 74ms/step - loss: 7.0252e-04\n",
            "Epoch 93/100\n",
            "62/62 [==============================] - 5s 75ms/step - loss: 6.7227e-04\n",
            "Epoch 94/100\n",
            "62/62 [==============================] - 5s 75ms/step - loss: 6.7698e-04\n",
            "Epoch 95/100\n",
            "62/62 [==============================] - 5s 75ms/step - loss: 6.4106e-04\n",
            "Epoch 96/100\n",
            "62/62 [==============================] - 5s 75ms/step - loss: 6.3534e-04\n",
            "Epoch 97/100\n",
            "62/62 [==============================] - 5s 75ms/step - loss: 6.3233e-04\n",
            "Epoch 98/100\n",
            "62/62 [==============================] - 5s 75ms/step - loss: 5.9921e-04\n",
            "Epoch 99/100\n",
            "62/62 [==============================] - 5s 75ms/step - loss: 6.0538e-04\n",
            "Epoch 100/100\n",
            "62/62 [==============================] - 5s 75ms/step - loss: 5.7630e-04\n"
          ]
        },
        {
          "data": {
            "text/plain": [
              "<keras.callbacks.History at 0x7f56df22e410>"
            ]
          },
          "execution_count": 49,
          "metadata": {},
          "output_type": "execute_result"
        }
      ],
      "source": [
        "#building the model\n",
        "\n",
        "model = Sequential()\n",
        "model.add(LSTM(units=50,return_sequences=True,input_shape=(x_train.shape[1], 1)))\n",
        "model.add(Dropout(0.2))\n",
        "model.add(LSTM(units=50,return_sequences=True))\n",
        "model.add(Dropout(0.2))\n",
        "model.add(LSTM(units=50,return_sequences=True))\n",
        "model.add(Dropout(0.2))\n",
        "model.add(LSTM(units=50))\n",
        "model.add(Dropout(0.2))\n",
        "model.add(Dense(units=1))\n",
        "model.compile(optimizer='adam',loss='mean_squared_error')\n",
        "model.fit(x_train,y_train,epochs=100,batch_size=32)"
      ]
    },
    {
      "cell_type": "code",
      "execution_count": null,
      "metadata": {
        "colab": {
          "base_uri": "https://localhost:8080/"
        },
        "id": "ONai_beVMO1m",
        "outputId": "837c2010-51a3-4746-85cb-8af5fcf0c607"
      },
      "outputs": [
        {
          "name": "stdout",
          "output_type": "stream",
          "text": [
            "Root Mean Square Error: 1.2861483085467864\n"
          ]
        }
      ],
      "source": [
        "predictions = model.predict(x_test)\n",
        "predictions = scaler.inverse_transform(predictions)\n",
        "\n",
        "# getting root mean sqaured errpr\n",
        "from sklearn.metrics import mean_squared_error\n",
        "from math import sqrt\n",
        "MSE = mean_squared_error(y_test, predictions)\n",
        "RMSE = math.sqrt(MSE)\n",
        "print(\"Root Mean Square Error:\",RMSE)\n"
      ]
    },
    {
      "cell_type": "code",
      "execution_count": null,
      "metadata": {
        "colab": {
          "base_uri": "https://localhost:8080/"
        },
        "id": "J3mfuUrtJZwD",
        "outputId": "f37ecab5-48b2-4b24-a6f5-51625fafab05"
      },
      "outputs": [
        {
          "name": "stdout",
          "output_type": "stream",
          "text": [
            "        actual  predicted\n",
            "0    60.549999  59.109661\n",
            "1    60.630001  59.901344\n",
            "2    60.259998  60.439938\n",
            "3    60.959999  60.357090\n",
            "4    61.240002  60.516449\n",
            "..         ...        ...\n",
            "498  35.830002  34.890121\n",
            "499  35.900002  35.135345\n",
            "500  36.139999  35.407764\n",
            "501  36.029999  35.599712\n",
            "502  35.139999  35.626175\n",
            "\n",
            "[503 rows x 2 columns]\n"
          ]
        }
      ],
      "source": [
        "# comparing the predicted and actual stock closing prices\n",
        "predictions = model.predict(x_test)\n",
        "predictions = scaler.inverse_transform(predictions)\n",
        "\n",
        "# comparing  predictions with the actual results from the 20% of the total data used to make predictions on\n",
        "dataframe = pd.DataFrame({'actual':y_test.flatten(),'predicted':predictions.flatten()})\n",
        "print(dataframe)"
      ]
    },
    {
      "cell_type": "code",
      "execution_count": null,
      "metadata": {
        "colab": {
          "base_uri": "https://localhost:8080/",
          "height": 617
        },
        "id": "J4Dkf9hDRs1B",
        "outputId": "19ad2d66-373d-494a-c7f4-db090077fa59"
      },
      "outputs": [
        {
          "name": "stderr",
          "output_type": "stream",
          "text": [
            "/usr/local/lib/python3.7/dist-packages/ipykernel_launcher.py:5: SettingWithCopyWarning: \n",
            "A value is trying to be set on a copy of a slice from a DataFrame.\n",
            "Try using .loc[row_indexer,col_indexer] = value instead\n",
            "\n",
            "See the caveats in the documentation: https://pandas.pydata.org/pandas-docs/stable/user_guide/indexing.html#returning-a-view-versus-a-copy\n",
            "  \"\"\"\n"
          ]
        },
        {
          "data": {
            "image/png": "[encoded data removed]",
            "text/plain": [
              "<Figure size 1152x576 with 1 Axes>"
            ]
          },
          "metadata": {
            "needs_background": "light"
          },
          "output_type": "display_data"
        }
      ],
      "source": [
        "# plotting results\n",
        "data = data.filter(['Close'])\n",
        "train = data[:training_data_len]\n",
        "validation = data[training_data_len:]\n",
        "validation['Predictions'] = predictions\n",
        "plt.figure(figsize=(16,8))\n",
        "plt.title('Model')\n",
        "plt.xlabel('Date')\n",
        "plt.ylabel('Close Price USD ($)')\n",
        "plt.plot(train)\n",
        "plt.plot(validation[['Close', 'Predictions']])\n",
        "plt.legend(['Train', 'Val', 'Predictions'], loc='lower right')\n",
        "plt.show()"
      ]
    }
  ],
  "metadata": {
    "colab": {
      "collapsed_sections": [],
      "provenance": []
    },
    "kernelspec": {
      "display_name": "Python 3",
      "name": "python3"
    },
    "language_info": {
      "name": "python"
    }
  },
  "nbformat": 4,
  "nbformat_minor": 0
}
